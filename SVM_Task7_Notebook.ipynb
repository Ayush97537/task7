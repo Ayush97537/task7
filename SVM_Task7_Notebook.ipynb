{
 "cells": [
  {
   "cell_type": "markdown",
   "id": "a82d2308",
   "metadata": {},
   "source": [
    "# 🧠 Task 7: Support Vector Machines (SVM)\n",
    "This notebook demonstrates the use of SVMs for linear and non-linear classification using the Breast Cancer dataset."
   ]
  },
  {
   "cell_type": "code",
   "execution_count": null,
   "id": "f23c5204",
   "metadata": {},
   "outputs": [],
   "source": [
    "# Importing libraries\n",
    "import numpy as np\n",
    "import matplotlib.pyplot as plt\n",
    "from sklearn import datasets\n",
    "from sklearn.model_selection import train_test_split, GridSearchCV, cross_val_score\n",
    "from sklearn.svm import SVC\n",
    "from sklearn.preprocessing import StandardScaler\n",
    "from sklearn.decomposition import PCA\n",
    "from sklearn.metrics import classification_report, confusion_matrix\n"
   ]
  },
  {
   "cell_type": "code",
   "execution_count": null,
   "id": "ce1743f0",
   "metadata": {},
   "outputs": [],
   "source": [
    "# 1. Load the Breast Cancer dataset\n",
    "data = datasets.load_breast_cancer()\n",
    "X = data.data\n",
    "y = data.target\n"
   ]
  },
  {
   "cell_type": "code",
   "execution_count": null,
   "id": "b14a4cd8",
   "metadata": {},
   "outputs": [],
   "source": [
    "# 2. Standardize features\n",
    "scaler = StandardScaler()\n",
    "X_scaled = scaler.fit_transform(X)\n"
   ]
  },
  {
   "cell_type": "code",
   "execution_count": null,
   "id": "4b20d7f7",
   "metadata": {},
   "outputs": [],
   "source": [
    "# 3. Split into train and test\n",
    "X_train, X_test, y_train, y_test = train_test_split(X_scaled, y, test_size=0.2, random_state=42)\n"
   ]
  },
  {
   "cell_type": "code",
   "execution_count": null,
   "id": "483c2c0d",
   "metadata": {},
   "outputs": [],
   "source": [
    "# 4. Train SVM with Linear kernel\n",
    "svm_linear = SVC(kernel='linear')\n",
    "svm_linear.fit(X_train, y_train)\n",
    "print(\"Linear Kernel SVM Accuracy:\", svm_linear.score(X_test, y_test))\n"
   ]
  },
  {
   "cell_type": "code",
   "execution_count": null,
   "id": "65f3f164",
   "metadata": {},
   "outputs": [],
   "source": [
    "# 5. Train SVM with RBF kernel\n",
    "svm_rbf = SVC(kernel='rbf')\n",
    "svm_rbf.fit(X_train, y_train)\n",
    "print(\"RBF Kernel SVM Accuracy:\", svm_rbf.score(X_test, y_test))\n"
   ]
  },
  {
   "cell_type": "code",
   "execution_count": null,
   "id": "c579e7ac",
   "metadata": {},
   "outputs": [],
   "source": [
    "# 6. Visualize decision boundary using PCA (2D projection)\n",
    "pca = PCA(n_components=2)\n",
    "X_pca = pca.fit_transform(X_scaled)\n",
    "\n",
    "svm_vis = SVC(kernel='linear')\n",
    "svm_vis.fit(X_pca, y)\n",
    "\n",
    "# Plot\n",
    "plt.figure(figsize=(8,6))\n",
    "h = .02\n",
    "x_min, x_max = X_pca[:, 0].min() - 1, X_pca[:, 0].max() + 1\n",
    "y_min, y_max = X_pca[:, 1].min() - 1, X_pca[:, 1].max() + 1\n",
    "xx, yy = np.meshgrid(np.arange(x_min, x_max, h),\n",
    "                     np.arange(y_min, y_max, h))\n",
    "Z = svm_vis.predict(np.c_[xx.ravel(), yy.ravel()])\n",
    "Z = Z.reshape(xx.shape)\n",
    "plt.contourf(xx, yy, Z, alpha=0.3)\n",
    "plt.scatter(X_pca[:, 0], X_pca[:, 1], c=y, cmap=plt.cm.coolwarm, s=20)\n",
    "plt.title(\"SVM Decision Boundary (PCA-reduced data)\")\n",
    "plt.xlabel(\"PCA 1\")\n",
    "plt.ylabel(\"PCA 2\")\n",
    "plt.show()\n"
   ]
  },
  {
   "cell_type": "code",
   "execution_count": null,
   "id": "4cd4aa12",
   "metadata": {},
   "outputs": [],
   "source": [
    "# 7. Hyperparameter Tuning for RBF kernel\n",
    "param_grid = {\n",
    "    'C': [0.1, 1, 10, 100],\n",
    "    'gamma': [1, 0.1, 0.01, 0.001],\n",
    "    'kernel': ['rbf']\n",
    "}\n",
    "grid = GridSearchCV(SVC(), param_grid, refit=True, cv=5)\n",
    "grid.fit(X_train, y_train)\n",
    "\n",
    "print(\"Best Parameters from GridSearch:\", grid.best_params_)\n",
    "print(\"Best CV Accuracy:\", grid.best_score_)\n"
   ]
  },
  {
   "cell_type": "code",
   "execution_count": null,
   "id": "4f2a65bf",
   "metadata": {},
   "outputs": [],
   "source": [
    "# 8. Evaluation on Test Set\n",
    "y_pred = grid.predict(X_test)\n",
    "print(\"\\nClassification Report:\\n\", classification_report(y_test, y_pred))\n",
    "print(\"Confusion Matrix:\\n\", confusion_matrix(y_test, y_pred))\n"
   ]
  },
  {
   "cell_type": "code",
   "execution_count": null,
   "id": "debf01d3",
   "metadata": {},
   "outputs": [],
   "source": [
    "# 9. Cross-validation score\n",
    "scores = cross_val_score(grid.best_estimator_, X_scaled, y, cv=5)\n",
    "print(\"Cross-validated Accuracy:\", scores.mean())\n"
   ]
  }
 ],
 "metadata": {},
 "nbformat": 4,
 "nbformat_minor": 5
}